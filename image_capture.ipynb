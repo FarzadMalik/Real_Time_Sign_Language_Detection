{
 "cells": [
  {
   "cell_type": "markdown",
   "id": "76f9d262",
   "metadata": {},
   "source": [
    "#### Import dependencies"
   ]
  },
  {
   "cell_type": "code",
   "execution_count": 1,
   "id": "2b57a307",
   "metadata": {},
   "outputs": [],
   "source": [
    "import os # for accesing local files\n",
    "import cv2 #for computer vision\n",
    "import uuid # naming the images\n",
    "import time #take break between images"
   ]
  },
  {
   "cell_type": "markdown",
   "id": "91548182",
   "metadata": {},
   "source": [
    "#### Specify image path"
   ]
  },
  {
   "cell_type": "code",
   "execution_count": 2,
   "id": "979d7300",
   "metadata": {},
   "outputs": [],
   "source": [
    "Images_path = 'Tensorflow\\workspace\\images\\collectedimages'"
   ]
  },
  {
   "cell_type": "markdown",
   "id": "e1947ccb",
   "metadata": {},
   "source": [
    "#### Define image labels and how many image we'll collect per label"
   ]
  },
  {
   "cell_type": "code",
   "execution_count": 3,
   "id": "eeee372d",
   "metadata": {},
   "outputs": [],
   "source": [
    "labels = ['Yes', 'No', 'I_love_you', 'Good', 'Thanks']\n",
    "img_num = 15"
   ]
  },
  {
   "cell_type": "markdown",
   "id": "690161f9",
   "metadata": {},
   "source": [
    "#### Code for collecting the images"
   ]
  },
  {
   "cell_type": "code",
   "execution_count": 4,
   "id": "b4a5db71",
   "metadata": {},
   "outputs": [
    {
     "name": "stderr",
     "output_type": "stream",
     "text": [
      "A subdirectory or file # already exists.\n",
      "Error occurred while processing: #.\n",
      "A subdirectory or file name already exists.\n",
      "Error occurred while processing: name.\n",
      "A subdirectory or file and already exists.\n",
      "Error occurred while processing: and.\n",
      "A subdirectory or file save already exists.\n",
      "Error occurred while processing: save.\n",
      "A subdirectory or file the already exists.\n",
      "Error occurred while processing: the.\n",
      "A subdirectory or file images already exists.\n",
      "Error occurred while processing: images.\n"
     ]
    },
    {
     "name": "stdout",
     "output_type": "stream",
     "text": [
      "Collecting images for Yes\n"
     ]
    },
    {
     "name": "stderr",
     "output_type": "stream",
     "text": [
      "A subdirectory or file # already exists.\n",
      "Error occurred while processing: #.\n",
      "A subdirectory or file name already exists.\n",
      "Error occurred while processing: name.\n",
      "A subdirectory or file and already exists.\n",
      "Error occurred while processing: and.\n",
      "A subdirectory or file save already exists.\n",
      "Error occurred while processing: save.\n",
      "A subdirectory or file the already exists.\n",
      "Error occurred while processing: the.\n",
      "A subdirectory or file images already exists.\n",
      "Error occurred while processing: images.\n"
     ]
    },
    {
     "name": "stdout",
     "output_type": "stream",
     "text": [
      "Collecting images for No\n"
     ]
    },
    {
     "name": "stderr",
     "output_type": "stream",
     "text": [
      "A subdirectory or file # already exists.\n",
      "Error occurred while processing: #.\n",
      "A subdirectory or file name already exists.\n",
      "Error occurred while processing: name.\n",
      "A subdirectory or file and already exists.\n",
      "Error occurred while processing: and.\n",
      "A subdirectory or file save already exists.\n",
      "Error occurred while processing: save.\n",
      "A subdirectory or file the already exists.\n",
      "Error occurred while processing: the.\n",
      "A subdirectory or file images already exists.\n",
      "Error occurred while processing: images.\n"
     ]
    },
    {
     "name": "stdout",
     "output_type": "stream",
     "text": [
      "Collecting images for I_love_you\n"
     ]
    },
    {
     "name": "stderr",
     "output_type": "stream",
     "text": [
      "A subdirectory or file # already exists.\n",
      "Error occurred while processing: #.\n",
      "A subdirectory or file name already exists.\n",
      "Error occurred while processing: name.\n",
      "A subdirectory or file and already exists.\n",
      "Error occurred while processing: and.\n",
      "A subdirectory or file save already exists.\n",
      "Error occurred while processing: save.\n",
      "A subdirectory or file the already exists.\n",
      "Error occurred while processing: the.\n",
      "A subdirectory or file images already exists.\n",
      "Error occurred while processing: images.\n"
     ]
    },
    {
     "name": "stdout",
     "output_type": "stream",
     "text": [
      "Collecting images for Good\n"
     ]
    },
    {
     "name": "stderr",
     "output_type": "stream",
     "text": [
      "A subdirectory or file # already exists.\n",
      "Error occurred while processing: #.\n",
      "A subdirectory or file name already exists.\n",
      "Error occurred while processing: name.\n",
      "A subdirectory or file and already exists.\n",
      "Error occurred while processing: and.\n",
      "A subdirectory or file save already exists.\n",
      "Error occurred while processing: save.\n",
      "A subdirectory or file the already exists.\n",
      "Error occurred while processing: the.\n",
      "A subdirectory or file images already exists.\n",
      "Error occurred while processing: images.\n"
     ]
    },
    {
     "name": "stdout",
     "output_type": "stream",
     "text": [
      "Collecting images for Thanks\n"
     ]
    }
   ],
   "source": [
    "for label in labels: #looping through each label\n",
    "    !mkdir = {'Tensorflow\\workspace\\images\\collectedimages\\\\'+label} # name and save the images\n",
    "    cap = cv2.VideoCapture(0) #initialize webcam\n",
    "    print(f'Collecting images for {label}') #Display the message\n",
    "    time.sleep(5)   # after each capture sleep for 5 sec\n",
    "    for num in range(img_num): #loop through it for the specifified number of times\n",
    "            ret, frame = cap.read() #read() in OpenCV returns 2 things,ret and the image itself. ret is mostly used for error catching.\n",
    "            img_name = os.path.join(Images_path, label, label+'.'+'{}.jpg'.format(str(uuid.uuid1())))\n",
    "            cv2.imwrite(img_name, frame) #write the image \n",
    "            cv2.imshow('frame',frame) #show the frame\n",
    "            time.sleep(2) #sleep for 2 sec\n",
    "            \n",
    "            if cv2.waitKey(1) & 0xFF == ord('q'): #exitkey\n",
    "                break\n",
    "        \n",
    "    cap.release() #Closes video file or capturing device.\n",
    "            \n",
    "    \n",
    "    "
   ]
  },
  {
   "cell_type": "code",
   "execution_count": null,
   "id": "e22ca98a",
   "metadata": {},
   "outputs": [],
   "source": []
  }
 ],
 "metadata": {
  "kernelspec": {
   "display_name": "Python 3 (ipykernel)",
   "language": "python",
   "name": "python3"
  },
  "language_info": {
   "codemirror_mode": {
    "name": "ipython",
    "version": 3
   },
   "file_extension": ".py",
   "mimetype": "text/x-python",
   "name": "python",
   "nbconvert_exporter": "python",
   "pygments_lexer": "ipython3",
   "version": "3.9.9"
  }
 },
 "nbformat": 4,
 "nbformat_minor": 5
}
